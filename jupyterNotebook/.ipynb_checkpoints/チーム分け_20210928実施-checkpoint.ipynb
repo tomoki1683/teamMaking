{
 "cells": [
  {
   "cell_type": "markdown",
   "id": "884b1f6b",
   "metadata": {},
   "source": [
    "## （0）事前に使用する関数、クラスを定義する"
   ]
  },
  {
   "cell_type": "code",
   "execution_count": 1,
   "id": "c31f60ce",
   "metadata": {},
   "outputs": [],
   "source": [
    "# 必要なモジュールをインポートする\n",
    "import pandas as pd\n",
    "import numpy as np\n",
    "from collections import defaultdict\n",
    "from random import choice\n",
    "from simanneal import Annealer\n",
    "from copy import deepcopy\n",
    "import math\n",
    "import random"
   ]
  },
  {
   "cell_type": "code",
   "execution_count": 2,
   "id": "6a94ee22",
   "metadata": {},
   "outputs": [],
   "source": [
    "# メンバー同士が同じチームに属した回数を記録\n",
    "def sameTeam_count(sameTeam_num, teamList_T):\n",
    "    output = deepcopy(sameTeam_num)\n",
    "    for team in teamList_T:\n",
    "        for member_i in range(len(team)):\n",
    "            member_1 = team[member_i]\n",
    "            for member_j in range(member_i+1, len(team)):\n",
    "                member_2 = team[member_j]\n",
    "                output[member_1][member_2] += 1\n",
    "                output[member_2][member_1] += 1\n",
    "    return output"
   ]
  },
  {
   "cell_type": "code",
   "execution_count": 3,
   "id": "75aa7051",
   "metadata": {},
   "outputs": [],
   "source": [
    "# 女性の数が少ないチームになった回数を記録\n",
    "def womenLess_count(womenLess_list, team_ravel, gender_count_list):\n",
    "    output = deepcopy(womenLess_list)\n",
    "    min_woman = 100\n",
    "    for row in gender_count_by_team:\n",
    "        if min_woman > row[\"女\"]:\n",
    "            min_woman = row[\"女\"]\n",
    "    for i in range(len(team_ravel)):\n",
    "        if gender_count_list[team_ravel[i]][\"女\"] == min_woman:\n",
    "            output[i] += 1\n",
    "    return output"
   ]
  },
  {
   "cell_type": "code",
   "execution_count": 4,
   "id": "f04cc5f0",
   "metadata": {},
   "outputs": [],
   "source": [
    "# 最適化用の関数を定義する\n",
    "# チームnにおける重複度\n",
    "def calc_team_cost(n, gender_count_by_team, team_to_member, sameTeam_list, womenLess_list):\n",
    "    \n",
    "    g = 0\n",
    "    s = 0\n",
    "    d = 0\n",
    "    w = 0\n",
    "    team = team_to_member[n]\n",
    "    \n",
    "    # 性別の重複度：男女の人数差の二乗\n",
    "    g = abs(gender_count_by_team[n]['男'] - gender_count_by_team[n]['女']) ** 2\n",
    "\n",
    "    # チーム構成の重複度：過去にチームメンバー同士が同じチームになった回数*4\n",
    "    for i in range(len(team)):\n",
    "        m1 = team[i]\n",
    "        for j in range(i+1,len(team)):\n",
    "            m2 = team[j]\n",
    "            s += sameTeam_list[m1][m2] * 10\n",
    "    \n",
    "    # ダミー人間の重複度：ダミー人数の二乗\n",
    "    #d = gender_count_by_team[n]['なし'] ** 4\n",
    "    \n",
    "    # 女性少数チームの重複度：過去に少数チームになった回数*(5 - 現在の女性人数)\n",
    "    now_woman = gender_count_by_team[n]['女']\n",
    "    for i in team:\n",
    "        w += womenLess_list[i] * (5-now_woman)\n",
    "    \n",
    "    return g + s + w"
   ]
  },
  {
   "cell_type": "code",
   "execution_count": 5,
   "id": "1d60ee16",
   "metadata": {},
   "outputs": [],
   "source": [
    "# チーム作成用のクラスを定義する\n",
    "class GroupingProblem(Annealer):\n",
    "    def __init__(self, init_state, member_list, sameTeam_list, womenLess_list):\n",
    "        super(GroupingProblem, self).__init__(init_state)  # important!\n",
    "        self.member_list = member_list\n",
    "        self.sameTeam_list = sameTeam_list\n",
    "        self.womenLess_list = womenLess_list\n",
    "        \n",
    "    def move(self):\n",
    "         \n",
    "        # ランダムにa,bの２人選ぶ\n",
    "        a = choice(range(totalMember_num))\n",
    "        b = choice(range(totalMember_num))\n",
    "        # 同一人物だった場合、何もせず終了(重複度の差分は0)\n",
    "        if a == b:\n",
    "            return 0\n",
    "        # a,bそれぞれのチーム\n",
    "        a_team = self.state[0][a]\n",
    "        b_team = self.state[0][b]\n",
    "        # ２人が同一チームだった場合、何もせず終了(重複度の差分は0)\n",
    "        if a_team == b_team:\n",
    "            return 0\n",
    "         \n",
    "        # 各チームのメンバー交換前の重複度\n",
    "        cost_a_before = calc_team_cost(a_team, self.state[1], self.state[2], self.sameTeam_list, self.womenLess_list)\n",
    "        cost_b_before = calc_team_cost(b_team, self.state[1], self.state[2], self.sameTeam_list, self.womenLess_list)\n",
    " \n",
    "        # aのチームのaの性別の人数\n",
    "        self.state[1][a_team][self.member_list[a][2]] -= 1\n",
    "        # bのチームのbの性別の人数\n",
    "        self.state[1][b_team][self.member_list[b][2]] -= 1\n",
    "         \n",
    "        # aのチームのリストからaを除く(効率悪いが横着)\n",
    "        self.state[2][a_team].remove(a)\n",
    "        # bのチームのリストからbを除く(効率悪いが横着)\n",
    "        self.state[2][b_team].remove(b)\n",
    "\n",
    "        # a,bの所属チームを交換\n",
    "        self.state[0][a], self.state[0][b] = self.state[0][b], self.state[0][a]\n",
    " \n",
    "        # aの新しいチームのaの性別の人数\n",
    "        self.state[1][b_team][self.member_list[a][2]] += 1\n",
    "        # bの新しいチームのbの性別の人数\n",
    "        self.state[1][a_team][self.member_list[b][2]] += 1\n",
    "         \n",
    "        # aの新しいチームのリストにaを追加\n",
    "        self.state[2][b_team].append(a)\n",
    "        # bの新しいチームのリストにbを追加\n",
    "        self.state[2][a_team].append(b)\n",
    "        \n",
    "        # 各チームのメンバー交換後の重複度\n",
    "        cost_a_after = calc_team_cost(a_team, self.state[1], self.state[2], self.sameTeam_list, self.womenLess_list)\n",
    "        cost_b_after = calc_team_cost(b_team, self.state[1], self.state[2], self.sameTeam_list, self.womenLess_list)\n",
    "         \n",
    "        # メンバー交換による重複度の差分を返す\n",
    "        return cost_a_after - cost_a_before + cost_b_after - cost_b_before\n",
    "              \n",
    "    # 目的関数\n",
    "    def energy(self):\n",
    "        # 各チームの重複度の和を返す\n",
    "        return sum(calc_team_cost(i, self.state[1], self.state[2], self.sameTeam_list, self.womenLess_list) for i in range(team_num))"
   ]
  },
  {
   "cell_type": "markdown",
   "id": "22646775",
   "metadata": {},
   "source": [
    "## （1）参加者リストを読み込み、必要な前処理を行う"
   ]
  },
  {
   "cell_type": "code",
   "execution_count": 6,
   "id": "4d8d968b",
   "metadata": {
    "scrolled": true
   },
   "outputs": [],
   "source": [
    "# 前処理\n",
    "# データ読み込み\n",
    "data = pd.read_csv(\"../../fix_チーム作成用名簿.csv\")\n",
    "zoom_data = pd.read_csv(\"../../fix_zoom幹事リスト.csv\")\n",
    "rec_data = pd.read_csv(\"../../fix_レク除外リスト.csv\")\n",
    "timeSchedule_A = pd.read_csv(\"../../fix_タイスケAチーム.csv\")\n",
    "timeSchedule_B = pd.read_csv(\"../../fix_タイスケBチーム.csv\")\n",
    "\n",
    "# 余分な半角スペースや全角スペースを削除する\n",
    "data[\"氏名_GoogleForm\"] = data[\"氏名_GoogleForm\"].str.replace('\\s', '', regex=True).values\n",
    "\n",
    "# 重複している人を削除する\n",
    "unique_data = data.drop_duplicates(subset='氏名_GoogleForm')\n",
    "\n",
    "# レク班、Zoom班、タイスケ班の幹事を削除する\n",
    "zoomList = zoom_data[\"氏名\"].values\n",
    "recList = rec_data[\"氏名\"].values\n",
    "timeAList = timeSchedule_A[\"氏名\"].values\n",
    "timeBList = timeSchedule_B[\"氏名\"].values\n",
    "removeList = np.concatenate([zoomList, recList, timeAList, timeBList])\n",
    "fixed_data = unique_data.query('氏名_GoogleForm not in @removeList').reset_index(drop=True)"
   ]
  },
  {
   "cell_type": "code",
   "execution_count": 7,
   "id": "f245481b",
   "metadata": {
    "scrolled": true
   },
   "outputs": [],
   "source": [
    "#fixed_data"
   ]
  },
  {
   "cell_type": "code",
   "execution_count": 8,
   "id": "a31bf721",
   "metadata": {
    "scrolled": true
   },
   "outputs": [],
   "source": [
    "# 結合用にタイスケ班のデータフレームを取得する\n",
    "# タイスケメンバーを男女それぞれ均等にA,Bに割り振る\n",
    "timeA_data = unique_data.query('氏名_GoogleForm in @timeAList')\n",
    "timeB_data = unique_data.query('氏名_GoogleForm in @timeBList')\n",
    "timeA_male = timeA_data[timeA_data[\"性別\"] == \"男\"]\n",
    "timeB_male = timeB_data[timeB_data[\"性別\"] == \"男\"]\n",
    "timeA_female = timeA_data[timeA_data[\"性別\"] == \"女\"]\n",
    "timeB_female = timeB_data[timeB_data[\"性別\"] == \"女\"]"
   ]
  },
  {
   "cell_type": "code",
   "execution_count": 9,
   "id": "674414b2",
   "metadata": {},
   "outputs": [],
   "source": [
    "# 男性をAとBの半分に分ける\n",
    "male_data = fixed_data[fixed_data[\"性別\"] == \"男\"]\n",
    "male_num = len(male_data)\n",
    "male_teamA = male_data.iloc[:male_num//2, [1, 0, 4, 3]]\n",
    "male_teamB = male_data.iloc[male_num//2:, [1, 0, 4, 3]]\n",
    "\n",
    "# 女性をAとBの半分に分ける\n",
    "female_data = fixed_data[fixed_data[\"性別\"] == \"女\"]\n",
    "female_num = len(female_data)\n",
    "female_teamA = female_data.iloc[:female_num//2, [1, 0, 4, 3]]\n",
    "female_teamB = female_data.iloc[female_num//2:, [1, 0, 4, 3]]"
   ]
  },
  {
   "cell_type": "code",
   "execution_count": 10,
   "id": "2c3d0c72",
   "metadata": {},
   "outputs": [],
   "source": [
    "# 男性データ、女性データにタイスケ班を結合する\n",
    "male_teamA = pd.concat([male_teamA, timeA_male.iloc[:, [1, 0, 4, 3]]])\n",
    "male_teamB = pd.concat([male_teamB, timeB_male.iloc[:, [1, 0, 4, 3]]])\n",
    "female_teamA = pd.concat([female_teamA, timeA_female.iloc[:, [1, 0, 4, 3]]])\n",
    "female_teamB = pd.concat([female_teamB, timeB_female.iloc[:, [1, 0, 4, 3]]])"
   ]
  },
  {
   "cell_type": "code",
   "execution_count": 11,
   "id": "ec000351",
   "metadata": {},
   "outputs": [],
   "source": [
    "# A, Bどちらに所属しているかが分かるようなリストを作成する\n",
    "listA = pd.concat([male_teamA.iloc[:,[0, 1]], female_teamA.iloc[:,[0, 1]]])\n",
    "listB = pd.concat([male_teamB.iloc[:,[0, 1]], female_teamB.iloc[:,[0, 1]]])\n",
    "listA[\"グループ\"] = \"A\"\n",
    "listB[\"グループ\"] = \"B\"\n",
    "list_AB = pd.concat([listA, listB])"
   ]
  },
  {
   "cell_type": "code",
   "execution_count": 12,
   "id": "02115fed",
   "metadata": {
    "scrolled": true
   },
   "outputs": [],
   "source": [
    "#list_AB"
   ]
  },
  {
   "cell_type": "code",
   "execution_count": 13,
   "id": "1301da7e",
   "metadata": {
    "scrolled": true
   },
   "outputs": [],
   "source": [
    "# A, Bのどちらに所属しているかを表示するCSVファイルを出力する\n",
    "list_AB.to_csv(\"ABリスト_0928.csv\")"
   ]
  },
  {
   "cell_type": "markdown",
   "id": "b9f11ae9",
   "metadata": {},
   "source": [
    "## （2）ルームA側の作成"
   ]
  },
  {
   "cell_type": "code",
   "execution_count": 14,
   "id": "fe6b8641",
   "metadata": {},
   "outputs": [],
   "source": [
    "# レク用の班を作成する\n",
    "# チーム数が全部で25チームになるように人数を調整する\n",
    "totalMember_num = len(male_teamA) + len(female_teamA)\n",
    "team_num = 25\n",
    "if totalMember_num % team_num == 0:\n",
    "    teamMember_num = totalMember_num // team_num\n",
    "    shortage = 0\n",
    "else:\n",
    "    teamMember_num = totalMember_num // team_num + 1\n",
    "    shortage = team_num * teamMember_num - totalMember_num\n",
    "totalMember_num += shortage\n",
    "\n",
    "# 同じチームになったことがあるか記録する\n",
    "sameTeam_list = np.zeros((totalMember_num, totalMember_num))\n",
    "\n",
    "# 女性が少ないチームになったことがあるかを記録する\n",
    "womenLess_list = np.zeros(totalMember_num)"
   ]
  },
  {
   "cell_type": "code",
   "execution_count": 15,
   "id": "e6775d96",
   "metadata": {},
   "outputs": [],
   "source": [
    "# 男性、女性、ダミーの順番で並んだdataframeを作成する\n",
    "dammyDF = pd.DataFrame([[\"ダミー\" + str(i+1), \"ダミー\" + str(i+1), \"なし\", \"なし\"] for i in range(shortage)], columns=[\"氏名_GoogleForm\", \"氏名_納金者\", \"性別\", \"職種\"])\n",
    "outputDF = pd.concat([male_teamA, female_teamA, dammyDF]).reset_index(drop=True)\n",
    "member_list = outputDF.values.tolist()"
   ]
  },
  {
   "cell_type": "code",
   "execution_count": 16,
   "id": "dc148ef2",
   "metadata": {
    "scrolled": true
   },
   "outputs": [],
   "source": [
    "#outputDF"
   ]
  },
  {
   "cell_type": "code",
   "execution_count": 17,
   "id": "65d9e43e",
   "metadata": {
    "scrolled": false
   },
   "outputs": [],
   "source": [
    "# 1回目のチームを作成する（レクリエーション用）\n",
    "# 男、女、ダミーの順で並んでいるため、前から順にチーム番号を振っていく\n",
    "teamList = np.tile(np.arange(team_num), (teamMember_num,1))\n",
    "memberList = np.arange(totalMember_num).reshape(teamMember_num, team_num)\n",
    "outputDF[\"チーム1回目\"] = teamList.ravel()\n",
    "# 同じチームになった回数をカウントする\n",
    "sameTeam_list = sameTeam_count(sameTeam_list, memberList.T)\n",
    "# 女性が少ないチームになった回数をカウントする\n",
    "gender_count_by_team = [defaultdict(int) for _ in range(team_num)]\n",
    "for i in range(totalMember_num):\n",
    "    gender_count_by_team[teamList.ravel()[i]][outputDF[\"性別\"].values[i]] += 1\n",
    "womenLess_list = womenLess_count(womenLess_list, teamList.ravel(), gender_count_by_team)"
   ]
  },
  {
   "cell_type": "code",
   "execution_count": 18,
   "id": "7d5641c9",
   "metadata": {
    "scrolled": true
   },
   "outputs": [],
   "source": [
    "# 2回目のチームを作成する（座談会用）\n",
    "# チーム数等の情報を置き換える\n",
    "totalMember_num = len(male_teamA) + len(female_teamA)\n",
    "teamMember_num = 5\n",
    "if totalMember_num % teamMember_num == 0:\n",
    "    team_num = totalMember_num // teamMember_num\n",
    "    shortage = 0\n",
    "else:\n",
    "    team_num = math.ceil(totalMember_num / teamMember_num)\n",
    "    shortage = teamMember_num - totalMember_num % teamMember_num\n",
    "totalMember_num += shortage\n",
    "outputDF = deepcopy(outputDF.iloc[:totalMember_num])\n",
    "\n",
    "# チームを作成する\n",
    "# 男、女、ダミーの順で並んでいるため、前から順にチーム番号を振っていく（レクとの兼ね合いによってはうまくいかない）\n",
    "teamList = np.tile(np.arange(team_num), (teamMember_num,1))\n",
    "memberList = np.arange(totalMember_num).reshape(teamMember_num, team_num)\n",
    "outputDF[\"チーム2回目\"] = teamList.ravel()\n",
    "# 同じチームになった回数をカウントする\n",
    "sameTeam_list = sameTeam_count(sameTeam_list, memberList.T)\n",
    "# 女性が一人のチームになった回数をカウントする\n",
    "gender_count_by_team = [defaultdict(int) for _ in range(team_num)]\n",
    "for i in range(totalMember_num):\n",
    "    gender_count_by_team[teamList.ravel()[i]][outputDF[\"性別\"].values[i]] += 1\n",
    "womenLess_list = womenLess_count(womenLess_list, teamList.ravel(), gender_count_by_team)"
   ]
  },
  {
   "cell_type": "code",
   "execution_count": 19,
   "id": "ebbde84d",
   "metadata": {
    "scrolled": true
   },
   "outputs": [],
   "source": [
    "#outputDF"
   ]
  },
  {
   "cell_type": "code",
   "execution_count": 20,
   "id": "a8667b1c",
   "metadata": {
    "scrolled": false
   },
   "outputs": [
    {
     "name": "stderr",
     "output_type": "stream",
     "text": [
      " Temperature        Energy    Accept   Improve     Elapsed   Remaining\n",
      "     2.50000        704.00    44.00%     8.33%     0:00:19     0:00:00"
     ]
    }
   ],
   "source": [
    "# 3回目のチームを作成する（座談会用）\n",
    "# 最適化を使用して、同じチームが発生しないようにする\n",
    "random.seed(95)\n",
    "init_state = [list(teamList.ravel()), gender_count_by_team, memberList.T.tolist()]\n",
    "prob = GroupingProblem(init_state, member_list, sameTeam_list, womenLess_list)\n",
    "prob.steps = 10**4 * 3\n",
    "prob.copy_strategy = \"deepcopy\"\n",
    "state, e = prob.anneal()\n",
    "sameTeam_list = sameTeam_count(sameTeam_list, prob.state[2])\n",
    "womenLess_list = womenLess_count(womenLess_list, prob.state[0], prob.state[1])\n",
    "outputDF[\"チーム3回目\"] = prob.state[0]"
   ]
  },
  {
   "cell_type": "code",
   "execution_count": 21,
   "id": "b32a51cf",
   "metadata": {
    "scrolled": true
   },
   "outputs": [],
   "source": [
    "#outputDF"
   ]
  },
  {
   "cell_type": "code",
   "execution_count": 22,
   "id": "bdd65cd4",
   "metadata": {},
   "outputs": [
    {
     "data": {
      "text/plain": [
       "0"
      ]
     },
     "execution_count": 22,
     "metadata": {},
     "output_type": "execute_result"
    }
   ],
   "source": [
    "# 重複している回数を計算する\n",
    "np.count_nonzero(sameTeam_list >= 2) // 2"
   ]
  },
  {
   "cell_type": "code",
   "execution_count": 23,
   "id": "3194242a",
   "metadata": {
    "scrolled": true
   },
   "outputs": [
    {
     "data": {
      "text/plain": [
       "6"
      ]
     },
     "execution_count": 23,
     "metadata": {},
     "output_type": "execute_result"
    }
   ],
   "source": [
    "# 女性少数チームの回数を計算する\n",
    "np.count_nonzero(womenLess_list == 3) // 2"
   ]
  },
  {
   "cell_type": "code",
   "execution_count": 24,
   "id": "dbe78977",
   "metadata": {
    "scrolled": true
   },
   "outputs": [
    {
     "data": {
      "text/plain": [
       "[defaultdict(int, {'男': 4, '女': 1}),\n",
       " defaultdict(int, {'男': 4, '女': 1}),\n",
       " defaultdict(int, {'男': 3, '女': 2}),\n",
       " defaultdict(int, {'男': 3, '女': 2}),\n",
       " defaultdict(int, {'男': 3, '女': 2}),\n",
       " defaultdict(int, {'男': 2, '女': 2, 'なし': 1}),\n",
       " defaultdict(int, {'男': 3, '女': 2}),\n",
       " defaultdict(int, {'男': 3, '女': 2}),\n",
       " defaultdict(int, {'男': 3, '女': 2}),\n",
       " defaultdict(int, {'男': 3, '女': 2}),\n",
       " defaultdict(int, {'男': 3, '女': 2}),\n",
       " defaultdict(int, {'男': 3, '女': 2}),\n",
       " defaultdict(int, {'男': 3, '女': 2}),\n",
       " defaultdict(int, {'男': 3, '女': 2}),\n",
       " defaultdict(int, {'男': 4, '女': 1}),\n",
       " defaultdict(int, {'男': 3, '女': 2}),\n",
       " defaultdict(int, {'男': 3, '女': 2}),\n",
       " defaultdict(int, {'男': 4, '女': 1}),\n",
       " defaultdict(int, {'男': 3, '女': 2}),\n",
       " defaultdict(int, {'男': 3, '女': 2}),\n",
       " defaultdict(int, {'男': 3, '女': 2}),\n",
       " defaultdict(int, {'男': 3, '女': 2}),\n",
       " defaultdict(int, {'男': 4, '女': 1}),\n",
       " defaultdict(int, {'男': 4, '女': 1}),\n",
       " defaultdict(int, {'男': 4, '女': 1}),\n",
       " defaultdict(int, {'男': 4, '女': 1}),\n",
       " defaultdict(int, {'男': 3, '女': 2}),\n",
       " defaultdict(int, {'男': 3, '女': 2}),\n",
       " defaultdict(int, {'男': 3, '女': 2}),\n",
       " defaultdict(int, {'男': 4, '女': 1}),\n",
       " defaultdict(int, {'男': 3, '女': 1, 'なし': 1}),\n",
       " defaultdict(int, {'男': 3, '女': 2}),\n",
       " defaultdict(int, {'男': 3, '女': 2}),\n",
       " defaultdict(int, {'男': 4, '女': 1})]"
      ]
     },
     "execution_count": 24,
     "metadata": {},
     "output_type": "execute_result"
    }
   ],
   "source": [
    "# 座談会3回目の男女比を表示する\n",
    "gender = [defaultdict(int) for _ in range(team_num)]\n",
    "for i in range(totalMember_num):\n",
    "    gender[prob.state[0][i]][outputDF[\"性別\"].values[i]] += 1\n",
    "gender"
   ]
  },
  {
   "cell_type": "markdown",
   "id": "9cf9e67e",
   "metadata": {},
   "source": [
    "## （３）ルームA側の結果CSVを出力する"
   ]
  },
  {
   "cell_type": "code",
   "execution_count": 25,
   "id": "0e23a140",
   "metadata": {
    "scrolled": true
   },
   "outputs": [],
   "source": [
    "teamA = deepcopy(outputDF)"
   ]
  },
  {
   "cell_type": "code",
   "execution_count": 26,
   "id": "90e05573",
   "metadata": {
    "scrolled": true
   },
   "outputs": [],
   "source": [
    "# 出力するチーム名を適切な形に変化させる\n",
    "teamA[\"チーム1回目\"] = teamA[\"チーム1回目\"].apply(lambda c: chr(c+65))\n",
    "teamA[\"チーム2回目\"] = teamA[\"チーム2回目\"].apply(lambda n: n+1)\n",
    "teamA[\"チーム3回目\"] = teamA[\"チーム3回目\"].apply(lambda n: n+1)"
   ]
  },
  {
   "cell_type": "code",
   "execution_count": 27,
   "id": "196e1d33",
   "metadata": {
    "scrolled": true
   },
   "outputs": [],
   "source": [
    "# ダミーを除外する\n",
    "# もしもダミーを残しておけば、参加者が増えた際にはそこに入れ込むだけで良いので対応しやすい\n",
    "teamA = teamA[teamA[\"性別\"] != \"なし\"]"
   ]
  },
  {
   "cell_type": "code",
   "execution_count": 28,
   "id": "b0bf051d",
   "metadata": {
    "scrolled": true
   },
   "outputs": [],
   "source": [
    "#teamA"
   ]
  },
  {
   "cell_type": "code",
   "execution_count": 29,
   "id": "3b677c06",
   "metadata": {
    "scrolled": true
   },
   "outputs": [],
   "source": [
    "# ピボットするために、[\"何人目\"]列を追加する\n",
    "copyA1 = deepcopy(teamA.iloc[:,[0, 4]])\n",
    "copyA1[\"何人目\"] = copyA1.groupby(\"チーム1回目\").cumcount()+1"
   ]
  },
  {
   "cell_type": "code",
   "execution_count": 30,
   "id": "31a9610f",
   "metadata": {},
   "outputs": [],
   "source": [
    "copyA2 = deepcopy(teamA.iloc[:,[0, 5]])\n",
    "copyA2[\"何人目\"] = copyA2.groupby(\"チーム2回目\").cumcount()+1"
   ]
  },
  {
   "cell_type": "code",
   "execution_count": 31,
   "id": "cca78c3c",
   "metadata": {},
   "outputs": [],
   "source": [
    "copyA3 = deepcopy(teamA.iloc[:,[0, 6]])\n",
    "copyA3[\"何人目\"] = copyA3.groupby(\"チーム3回目\").cumcount()+1"
   ]
  },
  {
   "cell_type": "code",
   "execution_count": 32,
   "id": "30d8410a",
   "metadata": {
    "scrolled": true
   },
   "outputs": [],
   "source": [
    "A_1data = copyA1.pivot(index=\"チーム1回目\", columns=\"何人目\", values=\"氏名_GoogleForm\")"
   ]
  },
  {
   "cell_type": "code",
   "execution_count": 33,
   "id": "c6f9d243",
   "metadata": {},
   "outputs": [],
   "source": [
    "A_2data = copyA2.pivot(index=\"チーム2回目\", columns=\"何人目\", values=\"氏名_GoogleForm\")"
   ]
  },
  {
   "cell_type": "code",
   "execution_count": 34,
   "id": "23f6e74c",
   "metadata": {},
   "outputs": [],
   "source": [
    "A_3data = copyA3.pivot(index=\"チーム3回目\", columns=\"何人目\", values=\"氏名_GoogleForm\")"
   ]
  },
  {
   "cell_type": "code",
   "execution_count": 35,
   "id": "8568bc4b",
   "metadata": {
    "scrolled": true
   },
   "outputs": [],
   "source": [
    "#A_3data"
   ]
  },
  {
   "cell_type": "code",
   "execution_count": 36,
   "id": "4b145764",
   "metadata": {
    "scrolled": true
   },
   "outputs": [],
   "source": [
    "# 使用する列を限定して、出力する\n",
    "teamA.iloc[:,[0, 1, 4, 5, 6]].to_csv(\"teamA_0928.csv\")"
   ]
  },
  {
   "cell_type": "code",
   "execution_count": 37,
   "id": "5a7413d8",
   "metadata": {},
   "outputs": [],
   "source": [
    "# ピボットデータを出力する\n",
    "A_1data.to_csv(\"A1_0928.csv\")\n",
    "A_2data.to_csv(\"A2_0928.csv\")\n",
    "A_3data.to_csv(\"A3_0928.csv\")"
   ]
  },
  {
   "cell_type": "markdown",
   "id": "82b9d164",
   "metadata": {},
   "source": [
    "## （4）ルームB側のチーム作成"
   ]
  },
  {
   "cell_type": "code",
   "execution_count": 38,
   "id": "54e130d0",
   "metadata": {},
   "outputs": [],
   "source": [
    "# レク用の班を作成する\n",
    "totalMember_num = len(male_teamB) + len(female_teamB)\n",
    "team_num = 25\n",
    "if totalMember_num % team_num == 0:\n",
    "    teamMember_num = totalMember_num // team_num\n",
    "    shortage = 0\n",
    "else:\n",
    "    teamMember_num = totalMember_num // team_num + 1\n",
    "    shortage = team_num * teamMember_num - totalMember_num\n",
    "totalMember_num += shortage\n",
    "\n",
    "# 同じチームになったことがあるか記録する\n",
    "sameTeam_list = np.zeros((totalMember_num, totalMember_num))\n",
    "\n",
    "# 女性が一人のチームになったことがあるかを記録する\n",
    "womenLess_list = np.zeros(totalMember_num)"
   ]
  },
  {
   "cell_type": "code",
   "execution_count": 39,
   "id": "c49203fc",
   "metadata": {},
   "outputs": [],
   "source": [
    "# 男性、女性、ダミーの順番で並んだdataframeを作成する\n",
    "dammyDF = pd.DataFrame([[\"ダミー\" + str(i+1), \"ダミー\" + str(i+1), \"なし\", \"なし\"] for i in range(shortage)], columns=[\"氏名_GoogleForm\", \"氏名_納金者\", \"性別\", \"職種\"])\n",
    "outputDF = pd.concat([male_teamB, female_teamB, dammyDF]).reset_index(drop=True)\n",
    "member_list = outputDF.values.tolist()"
   ]
  },
  {
   "cell_type": "code",
   "execution_count": 40,
   "id": "781e8010",
   "metadata": {
    "scrolled": true
   },
   "outputs": [],
   "source": [
    "#outputDF"
   ]
  },
  {
   "cell_type": "code",
   "execution_count": 41,
   "id": "58674e1d",
   "metadata": {},
   "outputs": [],
   "source": [
    "# メンバー同士が同じチームに属した回数を記録\n",
    "def sameTeam_count(sameTeam_num, teamList_T):\n",
    "    output = deepcopy(sameTeam_num)\n",
    "    for team in teamList_T:\n",
    "        for member_i in range(len(team)):\n",
    "            member_1 = team[member_i]\n",
    "            for member_j in range(member_i+1, len(team)):\n",
    "                member_2 = team[member_j]\n",
    "                output[member_1][member_2] += 1\n",
    "                output[member_2][member_1] += 1\n",
    "    return output"
   ]
  },
  {
   "cell_type": "code",
   "execution_count": 42,
   "id": "848244a6",
   "metadata": {},
   "outputs": [],
   "source": [
    "# 女性の数が少ないチームになった回数を記録\n",
    "def womenLess_count(womenLess_list, team_ravel, gender_count_list):\n",
    "    output = deepcopy(womenLess_list)\n",
    "    min_woman = 100\n",
    "    for row in gender_count_by_team:\n",
    "        if min_woman > row[\"女\"]:\n",
    "            min_woman = row[\"女\"]\n",
    "    for i in range(len(team_ravel)):\n",
    "        if gender_count_list[team_ravel[i]][\"女\"] == min_woman:\n",
    "            output[i] += 1\n",
    "    return output"
   ]
  },
  {
   "cell_type": "code",
   "execution_count": 43,
   "id": "1e4f844c",
   "metadata": {
    "scrolled": false
   },
   "outputs": [],
   "source": [
    "# 1回目のチームを作成する（レクリエーション用）\n",
    "# ローリングすることで作成する\n",
    "teamList = np.tile(np.arange(team_num), (teamMember_num,1))\n",
    "memberList = np.arange(totalMember_num).reshape(teamMember_num, team_num)\n",
    "#outputDF[\"チーム\" + str(step) + \"回目\"] = teamList.ravel()\n",
    "outputDF[\"チーム1回目\"] = teamList.ravel()\n",
    "# 同じチームになった回数をカウントする\n",
    "sameTeam_list = sameTeam_count(sameTeam_list, memberList.T)\n",
    "# 女性が一人のチームになった回数をカウントする\n",
    "gender_count_by_team = [defaultdict(int) for _ in range(team_num)]\n",
    "for i in range(totalMember_num):\n",
    "    gender_count_by_team[teamList.ravel()[i]][outputDF[\"性別\"].values[i]] += 1\n",
    "womenLess_list = womenLess_count(womenLess_list, teamList.ravel(), gender_count_by_team)\n",
    "\n",
    "#    else:\n",
    "#        for rolling in range(teamMember_num):\n",
    "#            teamList[rolling] = np.roll(teamList[rolling], -rolling**2)\n",
    "#            memberList[rolling] = np.roll(memberList[rolling], rolling**2)\n",
    "#        outputDF[\"チーム\" + str(step) + \"回目\"] = teamList.ravel()\n",
    "#        # 同じチームになった回数をカウントする\n",
    "#        sameTeam_list = sameTeam_count(sameTeam_list, memberList.T)\n",
    "#        # 女性が一人のチームになった回数をカウントする\n",
    "#        gender_count_by_team = [defaultdict(int) for _ in range(team_num)]\n",
    "#        for i in range(totalMember_num):\n",
    "#            gender_count_by_team[teamList.ravel()[i]][outputDF[\"性別\"].values[i]] += 1\n",
    "#        womenLess_list = womenLess_count(womenLess_list, teamList.ravel(), gender_count_by_team)"
   ]
  },
  {
   "cell_type": "code",
   "execution_count": 44,
   "id": "436207d0",
   "metadata": {},
   "outputs": [],
   "source": [
    "# 2回目のチームを作成する（座談会用）\n",
    "step_num = 3\n",
    "teamMember_num = 5\n",
    "totalMember_num = len(male_teamA) + len(female_teamA)\n",
    "if totalMember_num % teamMember_num == 0:\n",
    "    team_num = totalMember_num // teamMember_num\n",
    "    shortage = 0\n",
    "else:\n",
    "    team_num = math.ceil(totalMember_num / teamMember_num)\n",
    "    shortage = teamMember_num - totalMember_num % teamMember_num\n",
    "totalMember_num += shortage\n",
    "outputDF = deepcopy(outputDF.iloc[:totalMember_num])\n",
    "\n",
    "#a = np.vstack((sameTeam_list.T, np.zeros((shortage, len(sameTeam_list.T))))).T\n",
    "#sameTeam_list = np.vstack((a, np.zeros((shortage, len(a.T)))))\n",
    "#womenLess_list = np.append(womenLess_list, np.zeros(shortage))\n",
    "#dammy2nd = pd.DataFrame([[\"ダミー\" + str(i+1), \"なし\", \"なし\", totalMember_num] for i in range(shortage)], columns=[\"氏名\", \"性別\", \"職種\", \"チーム1回目\"])\n",
    "#outputDF = pd.concat([outputDF, dammy2nd]).reset_index(drop=True)\n",
    "#member_list = outputDF.values.tolist()\n",
    "teamList = np.tile(np.arange(team_num), (teamMember_num,1))\n",
    "memberList = np.arange(totalMember_num).reshape(teamMember_num, team_num)\n",
    "outputDF[\"チーム2回目\"] = teamList.ravel()\n",
    "# 同じチームになった回数をカウントする\n",
    "sameTeam_list = sameTeam_count(sameTeam_list, memberList.T)\n",
    "# 女性が一人のチームになった回数をカウントする\n",
    "gender_count_by_team = [defaultdict(int) for _ in range(team_num)]\n",
    "for i in range(totalMember_num):\n",
    "    gender_count_by_team[teamList.ravel()[i]][outputDF[\"性別\"].values[i]] += 1\n",
    "womenLess_list = womenLess_count(womenLess_list, teamList.ravel(), gender_count_by_team)"
   ]
  },
  {
   "cell_type": "code",
   "execution_count": 45,
   "id": "d32f8f74",
   "metadata": {
    "scrolled": true
   },
   "outputs": [],
   "source": [
    "#outputDF"
   ]
  },
  {
   "cell_type": "code",
   "execution_count": 46,
   "id": "234b3ea7",
   "metadata": {
    "scrolled": false
   },
   "outputs": [
    {
     "name": "stderr",
     "output_type": "stream",
     "text": [
      " Temperature        Energy    Accept   Improve     Elapsed   Remaining\n",
      "     2.50000        737.00    42.20%     8.10%     0:01:04     0:00:00"
     ]
    }
   ],
   "source": [
    "# 3回目のチームを作成する（座談会用）\n",
    "# 最適化を使用して、女性1人チーム、同じチームが発生しないようにする\n",
    "random.seed(100)\n",
    "init_state = [list(teamList.ravel()), gender_count_by_team, memberList.T.tolist()]\n",
    "prob = GroupingProblem(init_state, member_list, sameTeam_list, womenLess_list)\n",
    "prob.steps = 10**5\n",
    "prob.copy_strategy = \"deepcopy\"\n",
    "state, e = prob.anneal()\n",
    "sameTeam_list = sameTeam_count(sameTeam_list, prob.state[2])\n",
    "womenLess_list = womenLess_count(womenLess_list, prob.state[0], prob.state[1])\n",
    "outputDF[\"チーム3回目\"] = prob.state[0]"
   ]
  },
  {
   "cell_type": "code",
   "execution_count": 47,
   "id": "578737e0",
   "metadata": {
    "scrolled": true
   },
   "outputs": [],
   "source": [
    "#outputDF"
   ]
  },
  {
   "cell_type": "code",
   "execution_count": 48,
   "id": "f1cc4679",
   "metadata": {},
   "outputs": [
    {
     "data": {
      "text/plain": [
       "0"
      ]
     },
     "execution_count": 48,
     "metadata": {},
     "output_type": "execute_result"
    }
   ],
   "source": [
    "# 重複している回数を計算する\n",
    "np.count_nonzero(sameTeam_list >= 2) // 2"
   ]
  },
  {
   "cell_type": "code",
   "execution_count": 49,
   "id": "8037d1cb",
   "metadata": {
    "scrolled": true
   },
   "outputs": [
    {
     "data": {
      "text/plain": [
       "4"
      ]
     },
     "execution_count": 49,
     "metadata": {},
     "output_type": "execute_result"
    }
   ],
   "source": [
    "# 女性少数チームの回数を計算する\n",
    "np.count_nonzero(womenLess_list == 3) // 2"
   ]
  },
  {
   "cell_type": "code",
   "execution_count": 50,
   "id": "5d7d7922",
   "metadata": {
    "scrolled": true
   },
   "outputs": [
    {
     "data": {
      "text/plain": [
       "[defaultdict(int, {'男': 3, '女': 2}),\n",
       " defaultdict(int, {'男': 3, '女': 2}),\n",
       " defaultdict(int, {'男': 3, '女': 2}),\n",
       " defaultdict(int, {'男': 3, '女': 2}),\n",
       " defaultdict(int, {'男': 3, '女': 2}),\n",
       " defaultdict(int, {'男': 3, '女': 2}),\n",
       " defaultdict(int, {'男': 4, '女': 1}),\n",
       " defaultdict(int, {'男': 3, '女': 2}),\n",
       " defaultdict(int, {'男': 4, '女': 1}),\n",
       " defaultdict(int, {'男': 3, '女': 2}),\n",
       " defaultdict(int, {'男': 3, '女': 2}),\n",
       " defaultdict(int, {'男': 4, '女': 1}),\n",
       " defaultdict(int, {'男': 4, '女': 1}),\n",
       " defaultdict(int, {'男': 3, '女': 2}),\n",
       " defaultdict(int, {'男': 3, '女': 2}),\n",
       " defaultdict(int, {'男': 3, '女': 2}),\n",
       " defaultdict(int, {'男': 4, '女': 1}),\n",
       " defaultdict(int, {'男': 3, '女': 2}),\n",
       " defaultdict(int, {'男': 4, '女': 1}),\n",
       " defaultdict(int, {'男': 4, '女': 1}),\n",
       " defaultdict(int, {'男': 3, '女': 2}),\n",
       " defaultdict(int, {'男': 3, '女': 2}),\n",
       " defaultdict(int, {'男': 3, '女': 2}),\n",
       " defaultdict(int, {'男': 3, '女': 2}),\n",
       " defaultdict(int, {'男': 3, '女': 2}),\n",
       " defaultdict(int, {'男': 3, '女': 2}),\n",
       " defaultdict(int, {'男': 3, '女': 2}),\n",
       " defaultdict(int, {'男': 3, '女': 2}),\n",
       " defaultdict(int, {'男': 3, '女': 1, 'なし': 1}),\n",
       " defaultdict(int, {'男': 4, '女': 1}),\n",
       " defaultdict(int, {'男': 4, '女': 1}),\n",
       " defaultdict(int, {'男': 3, '女': 2}),\n",
       " defaultdict(int, {'男': 3, '女': 2}),\n",
       " defaultdict(int, {'男': 4, '女': 1})]"
      ]
     },
     "execution_count": 50,
     "metadata": {},
     "output_type": "execute_result"
    }
   ],
   "source": [
    "gender = [defaultdict(int) for _ in range(team_num)]\n",
    "for i in range(totalMember_num):\n",
    "    gender[prob.state[0][i]][outputDF[\"性別\"].values[i]] += 1\n",
    "gender"
   ]
  },
  {
   "cell_type": "code",
   "execution_count": 51,
   "id": "48d31f11",
   "metadata": {
    "scrolled": true
   },
   "outputs": [],
   "source": [
    "teamB = deepcopy(outputDF)"
   ]
  },
  {
   "cell_type": "code",
   "execution_count": 52,
   "id": "b005bec0",
   "metadata": {
    "scrolled": true
   },
   "outputs": [],
   "source": [
    "teamB[\"チーム1回目\"] = teamB[\"チーム1回目\"].apply(lambda c: chr(c+65))\n",
    "teamB[\"チーム2回目\"] = teamB[\"チーム2回目\"].apply(lambda n: n+1)\n",
    "teamB[\"チーム3回目\"] = teamB[\"チーム3回目\"].apply(lambda n: n+1)"
   ]
  },
  {
   "cell_type": "code",
   "execution_count": 53,
   "id": "bd4116fd",
   "metadata": {},
   "outputs": [],
   "source": [
    "teamB = teamB[teamB[\"性別\"] != \"なし\"]"
   ]
  },
  {
   "cell_type": "code",
   "execution_count": 54,
   "id": "1e3f19e6",
   "metadata": {
    "scrolled": true
   },
   "outputs": [],
   "source": [
    "#teamB"
   ]
  },
  {
   "cell_type": "code",
   "execution_count": 55,
   "id": "b3e48c0a",
   "metadata": {
    "scrolled": true
   },
   "outputs": [],
   "source": [
    "copyB1 = deepcopy(teamB.iloc[:,[0, 4]])\n",
    "copyB1[\"何人目\"] = copyB1.groupby(\"チーム1回目\").cumcount()+1"
   ]
  },
  {
   "cell_type": "code",
   "execution_count": 56,
   "id": "6f99d6ed",
   "metadata": {},
   "outputs": [],
   "source": [
    "copyB2 = deepcopy(teamB.iloc[:,[0, 5]])\n",
    "copyB2[\"何人目\"] = copyB2.groupby(\"チーム2回目\").cumcount()+1"
   ]
  },
  {
   "cell_type": "code",
   "execution_count": 57,
   "id": "bcf95489",
   "metadata": {},
   "outputs": [],
   "source": [
    "copyB3 = deepcopy(teamB.iloc[:,[0, 6]])\n",
    "copyB3[\"何人目\"] = copyB3.groupby(\"チーム3回目\").cumcount()+1"
   ]
  },
  {
   "cell_type": "code",
   "execution_count": 58,
   "id": "c18b3974",
   "metadata": {
    "scrolled": true
   },
   "outputs": [],
   "source": [
    "B_1data = copyB1.pivot(index=\"チーム1回目\", columns=\"何人目\", values=\"氏名_GoogleForm\")"
   ]
  },
  {
   "cell_type": "code",
   "execution_count": 59,
   "id": "c65c5db1",
   "metadata": {},
   "outputs": [],
   "source": [
    "B_2data = copyB2.pivot(index=\"チーム2回目\", columns=\"何人目\", values=\"氏名_GoogleForm\")"
   ]
  },
  {
   "cell_type": "code",
   "execution_count": 60,
   "id": "fa4329fd",
   "metadata": {},
   "outputs": [],
   "source": [
    "B_3data = copyB3.pivot(index=\"チーム3回目\", columns=\"何人目\", values=\"氏名_GoogleForm\")"
   ]
  },
  {
   "cell_type": "code",
   "execution_count": 61,
   "id": "5a712d18",
   "metadata": {
    "scrolled": true
   },
   "outputs": [],
   "source": [
    "#B_3data"
   ]
  },
  {
   "cell_type": "code",
   "execution_count": 62,
   "id": "41e399b0",
   "metadata": {
    "scrolled": true
   },
   "outputs": [],
   "source": [
    "teamB.iloc[:,[0, 1, 4, 5, 6]].to_csv(\"teamB_0928.csv\")"
   ]
  },
  {
   "cell_type": "code",
   "execution_count": 63,
   "id": "f9f6cf7c",
   "metadata": {},
   "outputs": [],
   "source": [
    "B_1data.to_csv(\"B1_0928.csv\")\n",
    "B_2data.to_csv(\"B2_0928.csv\")\n",
    "B_3data.to_csv(\"B3_0928.csv\")"
   ]
  },
  {
   "cell_type": "code",
   "execution_count": null,
   "id": "27f325a0",
   "metadata": {},
   "outputs": [],
   "source": []
  }
 ],
 "metadata": {
  "kernelspec": {
   "display_name": "Python 3",
   "language": "python",
   "name": "python3"
  },
  "language_info": {
   "codemirror_mode": {
    "name": "ipython",
    "version": 3
   },
   "file_extension": ".py",
   "mimetype": "text/x-python",
   "name": "python",
   "nbconvert_exporter": "python",
   "pygments_lexer": "ipython3",
   "version": "3.8.8"
  }
 },
 "nbformat": 4,
 "nbformat_minor": 5
}
